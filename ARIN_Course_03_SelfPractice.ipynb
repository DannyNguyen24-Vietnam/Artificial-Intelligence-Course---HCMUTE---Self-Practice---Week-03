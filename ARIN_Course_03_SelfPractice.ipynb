{
  "nbformat": 4,
  "nbformat_minor": 0,
  "metadata": {
    "colab": {
      "provenance": [],
      "mount_file_id": "1hIDooTc-EQd6FuSRcq_NtpggnM8BkxkT",
      "authorship_tag": "ABX9TyOoUpFyXsTJOQ0WNfytKFqO",
      "include_colab_link": true
    },
    "kernelspec": {
      "name": "python3",
      "display_name": "Python 3"
    },
    "language_info": {
      "name": "python"
    }
  },
  "cells": [
    {
      "cell_type": "markdown",
      "metadata": {
        "id": "view-in-github",
        "colab_type": "text"
      },
      "source": [
        "<a href=\"https://colab.research.google.com/github/DannyNguyen24-Vietnam/Artificial-Intelligence-Course---HCMUTE---Self-Practice---Week-03/blob/main/ARIN_Course_03_SelfPractice.ipynb\" target=\"_parent\"><img src=\"https://colab.research.google.com/assets/colab-badge.svg\" alt=\"Open In Colab\"/></a>"
      ]
    },
    {
      "cell_type": "markdown",
      "source": [
        "**Requirements:**\n",
        "\n",
        "**=======================================================================**\\\n",
        "Data Mining of Winter Olympic Medals Record\\\n",
        "**=======================================================================**"
      ],
      "metadata": {
        "id": "xixpU_Qw0ZcI"
      }
    },
    {
      "cell_type": "code",
      "source": [
        "# Import libraries\n",
        "import numpy as np\n",
        "import pandas as pd\n",
        "import matplotlib.pyplot as plt"
      ],
      "metadata": {
        "id": "gSQgLS_liOEx"
      },
      "execution_count": 1,
      "outputs": []
    },
    {
      "cell_type": "code",
      "source": [
        "# Data from Website\n",
        "file_url = 'http://winterolympicsmedals.com/medals.csv'\n",
        "medaldata = pd.read_csv(file_url)"
      ],
      "metadata": {
        "id": "KoZQey1mz1Aw"
      },
      "execution_count": 2,
      "outputs": []
    },
    {
      "cell_type": "code",
      "source": [
        "# Visualization of the first ten values\n",
        "medaldata.head(10)"
      ],
      "metadata": {
        "colab": {
          "base_uri": "https://localhost:8080/",
          "height": 363
        },
        "id": "Fu2IL9Y0z1L_",
        "outputId": "438a8f4e-aac6-4237-9bc7-d6e397e839e5"
      },
      "execution_count": 3,
      "outputs": [
        {
          "output_type": "execute_result",
          "data": {
            "text/plain": [
              "   Year      City       Sport      Discipline  NOC            Event  \\\n",
              "0  1924  Chamonix     Skating  Figure skating  AUT       individual   \n",
              "1  1924  Chamonix     Skating  Figure skating  AUT       individual   \n",
              "2  1924  Chamonix     Skating  Figure skating  AUT            pairs   \n",
              "3  1924  Chamonix   Bobsleigh       Bobsleigh  BEL         four-man   \n",
              "4  1924  Chamonix  Ice Hockey      Ice Hockey  CAN       ice hockey   \n",
              "5  1924  Chamonix    Biathlon        Biathlon  FIN  military patrol   \n",
              "6  1924  Chamonix     Skating  Figure skating  FIN            pairs   \n",
              "7  1924  Chamonix     Skating   Speed skating  FIN           10000m   \n",
              "8  1924  Chamonix     Skating   Speed skating  FIN           10000m   \n",
              "9  1924  Chamonix     Skating   Speed skating  FIN            1500m   \n",
              "\n",
              "  Event gender   Medal  \n",
              "0            M  Silver  \n",
              "1            W    Gold  \n",
              "2            X    Gold  \n",
              "3            M  Bronze  \n",
              "4            M    Gold  \n",
              "5            M  Silver  \n",
              "6            X  Silver  \n",
              "7            M    Gold  \n",
              "8            M  Silver  \n",
              "9            M    Gold  "
            ],
            "text/html": [
              "\n",
              "  <div id=\"df-bde118f0-9441-4bde-bab4-c7c3ead431e9\">\n",
              "    <div class=\"colab-df-container\">\n",
              "      <div>\n",
              "<style scoped>\n",
              "    .dataframe tbody tr th:only-of-type {\n",
              "        vertical-align: middle;\n",
              "    }\n",
              "\n",
              "    .dataframe tbody tr th {\n",
              "        vertical-align: top;\n",
              "    }\n",
              "\n",
              "    .dataframe thead th {\n",
              "        text-align: right;\n",
              "    }\n",
              "</style>\n",
              "<table border=\"1\" class=\"dataframe\">\n",
              "  <thead>\n",
              "    <tr style=\"text-align: right;\">\n",
              "      <th></th>\n",
              "      <th>Year</th>\n",
              "      <th>City</th>\n",
              "      <th>Sport</th>\n",
              "      <th>Discipline</th>\n",
              "      <th>NOC</th>\n",
              "      <th>Event</th>\n",
              "      <th>Event gender</th>\n",
              "      <th>Medal</th>\n",
              "    </tr>\n",
              "  </thead>\n",
              "  <tbody>\n",
              "    <tr>\n",
              "      <th>0</th>\n",
              "      <td>1924</td>\n",
              "      <td>Chamonix</td>\n",
              "      <td>Skating</td>\n",
              "      <td>Figure skating</td>\n",
              "      <td>AUT</td>\n",
              "      <td>individual</td>\n",
              "      <td>M</td>\n",
              "      <td>Silver</td>\n",
              "    </tr>\n",
              "    <tr>\n",
              "      <th>1</th>\n",
              "      <td>1924</td>\n",
              "      <td>Chamonix</td>\n",
              "      <td>Skating</td>\n",
              "      <td>Figure skating</td>\n",
              "      <td>AUT</td>\n",
              "      <td>individual</td>\n",
              "      <td>W</td>\n",
              "      <td>Gold</td>\n",
              "    </tr>\n",
              "    <tr>\n",
              "      <th>2</th>\n",
              "      <td>1924</td>\n",
              "      <td>Chamonix</td>\n",
              "      <td>Skating</td>\n",
              "      <td>Figure skating</td>\n",
              "      <td>AUT</td>\n",
              "      <td>pairs</td>\n",
              "      <td>X</td>\n",
              "      <td>Gold</td>\n",
              "    </tr>\n",
              "    <tr>\n",
              "      <th>3</th>\n",
              "      <td>1924</td>\n",
              "      <td>Chamonix</td>\n",
              "      <td>Bobsleigh</td>\n",
              "      <td>Bobsleigh</td>\n",
              "      <td>BEL</td>\n",
              "      <td>four-man</td>\n",
              "      <td>M</td>\n",
              "      <td>Bronze</td>\n",
              "    </tr>\n",
              "    <tr>\n",
              "      <th>4</th>\n",
              "      <td>1924</td>\n",
              "      <td>Chamonix</td>\n",
              "      <td>Ice Hockey</td>\n",
              "      <td>Ice Hockey</td>\n",
              "      <td>CAN</td>\n",
              "      <td>ice hockey</td>\n",
              "      <td>M</td>\n",
              "      <td>Gold</td>\n",
              "    </tr>\n",
              "    <tr>\n",
              "      <th>5</th>\n",
              "      <td>1924</td>\n",
              "      <td>Chamonix</td>\n",
              "      <td>Biathlon</td>\n",
              "      <td>Biathlon</td>\n",
              "      <td>FIN</td>\n",
              "      <td>military patrol</td>\n",
              "      <td>M</td>\n",
              "      <td>Silver</td>\n",
              "    </tr>\n",
              "    <tr>\n",
              "      <th>6</th>\n",
              "      <td>1924</td>\n",
              "      <td>Chamonix</td>\n",
              "      <td>Skating</td>\n",
              "      <td>Figure skating</td>\n",
              "      <td>FIN</td>\n",
              "      <td>pairs</td>\n",
              "      <td>X</td>\n",
              "      <td>Silver</td>\n",
              "    </tr>\n",
              "    <tr>\n",
              "      <th>7</th>\n",
              "      <td>1924</td>\n",
              "      <td>Chamonix</td>\n",
              "      <td>Skating</td>\n",
              "      <td>Speed skating</td>\n",
              "      <td>FIN</td>\n",
              "      <td>10000m</td>\n",
              "      <td>M</td>\n",
              "      <td>Gold</td>\n",
              "    </tr>\n",
              "    <tr>\n",
              "      <th>8</th>\n",
              "      <td>1924</td>\n",
              "      <td>Chamonix</td>\n",
              "      <td>Skating</td>\n",
              "      <td>Speed skating</td>\n",
              "      <td>FIN</td>\n",
              "      <td>10000m</td>\n",
              "      <td>M</td>\n",
              "      <td>Silver</td>\n",
              "    </tr>\n",
              "    <tr>\n",
              "      <th>9</th>\n",
              "      <td>1924</td>\n",
              "      <td>Chamonix</td>\n",
              "      <td>Skating</td>\n",
              "      <td>Speed skating</td>\n",
              "      <td>FIN</td>\n",
              "      <td>1500m</td>\n",
              "      <td>M</td>\n",
              "      <td>Gold</td>\n",
              "    </tr>\n",
              "  </tbody>\n",
              "</table>\n",
              "</div>\n",
              "      <button class=\"colab-df-convert\" onclick=\"convertToInteractive('df-bde118f0-9441-4bde-bab4-c7c3ead431e9')\"\n",
              "              title=\"Convert this dataframe to an interactive table.\"\n",
              "              style=\"display:none;\">\n",
              "        \n",
              "  <svg xmlns=\"http://www.w3.org/2000/svg\" height=\"24px\"viewBox=\"0 0 24 24\"\n",
              "       width=\"24px\">\n",
              "    <path d=\"M0 0h24v24H0V0z\" fill=\"none\"/>\n",
              "    <path d=\"M18.56 5.44l.94 2.06.94-2.06 2.06-.94-2.06-.94-.94-2.06-.94 2.06-2.06.94zm-11 1L8.5 8.5l.94-2.06 2.06-.94-2.06-.94L8.5 2.5l-.94 2.06-2.06.94zm10 10l.94 2.06.94-2.06 2.06-.94-2.06-.94-.94-2.06-.94 2.06-2.06.94z\"/><path d=\"M17.41 7.96l-1.37-1.37c-.4-.4-.92-.59-1.43-.59-.52 0-1.04.2-1.43.59L10.3 9.45l-7.72 7.72c-.78.78-.78 2.05 0 2.83L4 21.41c.39.39.9.59 1.41.59.51 0 1.02-.2 1.41-.59l7.78-7.78 2.81-2.81c.8-.78.8-2.07 0-2.86zM5.41 20L4 18.59l7.72-7.72 1.47 1.35L5.41 20z\"/>\n",
              "  </svg>\n",
              "      </button>\n",
              "      \n",
              "  <style>\n",
              "    .colab-df-container {\n",
              "      display:flex;\n",
              "      flex-wrap:wrap;\n",
              "      gap: 12px;\n",
              "    }\n",
              "\n",
              "    .colab-df-convert {\n",
              "      background-color: #E8F0FE;\n",
              "      border: none;\n",
              "      border-radius: 50%;\n",
              "      cursor: pointer;\n",
              "      display: none;\n",
              "      fill: #1967D2;\n",
              "      height: 32px;\n",
              "      padding: 0 0 0 0;\n",
              "      width: 32px;\n",
              "    }\n",
              "\n",
              "    .colab-df-convert:hover {\n",
              "      background-color: #E2EBFA;\n",
              "      box-shadow: 0px 1px 2px rgba(60, 64, 67, 0.3), 0px 1px 3px 1px rgba(60, 64, 67, 0.15);\n",
              "      fill: #174EA6;\n",
              "    }\n",
              "\n",
              "    [theme=dark] .colab-df-convert {\n",
              "      background-color: #3B4455;\n",
              "      fill: #D2E3FC;\n",
              "    }\n",
              "\n",
              "    [theme=dark] .colab-df-convert:hover {\n",
              "      background-color: #434B5C;\n",
              "      box-shadow: 0px 1px 3px 1px rgba(0, 0, 0, 0.15);\n",
              "      filter: drop-shadow(0px 1px 2px rgba(0, 0, 0, 0.3));\n",
              "      fill: #FFFFFF;\n",
              "    }\n",
              "  </style>\n",
              "\n",
              "      <script>\n",
              "        const buttonEl =\n",
              "          document.querySelector('#df-bde118f0-9441-4bde-bab4-c7c3ead431e9 button.colab-df-convert');\n",
              "        buttonEl.style.display =\n",
              "          google.colab.kernel.accessAllowed ? 'block' : 'none';\n",
              "\n",
              "        async function convertToInteractive(key) {\n",
              "          const element = document.querySelector('#df-bde118f0-9441-4bde-bab4-c7c3ead431e9');\n",
              "          const dataTable =\n",
              "            await google.colab.kernel.invokeFunction('convertToInteractive',\n",
              "                                                     [key], {});\n",
              "          if (!dataTable) return;\n",
              "\n",
              "          const docLinkHtml = 'Like what you see? Visit the ' +\n",
              "            '<a target=\"_blank\" href=https://colab.research.google.com/notebooks/data_table.ipynb>data table notebook</a>'\n",
              "            + ' to learn more about interactive tables.';\n",
              "          element.innerHTML = '';\n",
              "          dataTable['output_type'] = 'display_data';\n",
              "          await google.colab.output.renderOutput(dataTable, element);\n",
              "          const docLink = document.createElement('div');\n",
              "          docLink.innerHTML = docLinkHtml;\n",
              "          element.appendChild(docLink);\n",
              "        }\n",
              "      </script>\n",
              "    </div>\n",
              "  </div>\n",
              "  "
            ]
          },
          "metadata": {},
          "execution_count": 3
        }
      ]
    },
    {
      "cell_type": "markdown",
      "source": [
        "**Uniqueness of Data in Each Category**"
      ],
      "metadata": {
        "id": "NKI0uBm33Juh"
      }
    },
    {
      "cell_type": "code",
      "source": [
        "print('Years: \\n', medaldata['Year'].unique())\n",
        "print('\\n============================================\\n')\n",
        "print('Country Codes: \\n', medaldata['NOC'].unique())\n",
        "print('\\n============================================\\n')\n",
        "print('Sport types:\\n', medaldata['Sport'].unique())\n",
        "print('\\n============================================\\n')\n",
        "print('Discipline types:\\n', medaldata['Discipline'].unique())\n",
        "print('\\n============================================\\n')\n",
        "print('Event types:\\n', medaldata['Event'].unique())\n",
        "print('\\n============================================\\n')\n",
        "print('Genders:\\n', medaldata['Event gender'].unique())\n",
        "print('\\n============================================\\n')\n",
        "print('Prizes:\\n', medaldata['Medal'].unique())"
      ],
      "metadata": {
        "colab": {
          "base_uri": "https://localhost:8080/"
        },
        "id": "zj5Wx7S81TFF",
        "outputId": "f0de61da-1122-4744-afcd-8bdc2e4489a7"
      },
      "execution_count": 4,
      "outputs": [
        {
          "output_type": "stream",
          "name": "stdout",
          "text": [
            "Years: \n",
            " [1924 1928 1932 1936 1948 1952 1956 1960 1964 1968 1972 1976 1980 1984\n",
            " 1988 1992 1994 1998 2002 2006]\n",
            "\n",
            "============================================\n",
            "\n",
            "Country Codes: \n",
            " ['AUT' 'BEL' 'CAN' 'FIN' 'FRA' 'GBR' 'NOR' 'SUI' 'SWE' 'USA' 'GER' 'TCH'\n",
            " 'HUN' 'ITA' 'FRG' 'NED' 'EUA' 'JPN' 'POL' 'URS' 'PRK' 'GDR' 'ROU' 'ESP'\n",
            " 'LIE' 'BUL' 'YUG' 'CHN' 'EUN' 'KOR' 'LUX' 'NZL' 'AUS' 'BLR' 'KAZ' 'RUS'\n",
            " 'SLO' 'UKR' 'UZB' 'CZE' 'DEN' 'CRO' 'EST' 'LAT' 'SVK']\n",
            "\n",
            "============================================\n",
            "\n",
            "Sport types:\n",
            " ['Skating' 'Bobsleigh' 'Ice Hockey' 'Biathlon' 'Skiing' 'Curling' 'Luge']\n",
            "\n",
            "============================================\n",
            "\n",
            "Discipline types:\n",
            " ['Figure skating' 'Bobsleigh' 'Ice Hockey' 'Biathlon' 'Speed skating'\n",
            " 'Cross Country S' 'Curling' 'Nordic Combined' 'Ski Jumping' 'Skeleton'\n",
            " 'Alpine Skiing' 'Luge' 'Short Track S.' 'Freestyle Ski.' 'Snowboard']\n",
            "\n",
            "============================================\n",
            "\n",
            "Event types:\n",
            " ['individual' 'pairs' 'four-man' 'ice hockey' 'military patrol' '10000m'\n",
            " '1500m' '5000m' '500m' 'combined (4 events)' '18km' 'curling' '50km'\n",
            " 'K90 individual (70m)' 'five-man' 'two-man' '4x10km relay'\n",
            " 'alpine combined' 'downhill' 'slalom' 'giant slalom' '10km'\n",
            " '30km mass start' '3x5km relay' '15km' '1000m' '20km' '3000m' 'doubles'\n",
            " 'singles' '5km' 'K120 individual (90m)' '4x7.5km relay' '4x5km relay'\n",
            " 'ice dancing' 'super-G' 'Team' 'K120 team (90m)' '3000m relay'\n",
            " '5000m relay' '3x7.5km relay' '7.5km' '15km mass start' '30km'\n",
            " 'Combined 5km + 10km pursuit' 'moguls' '10km pursuit'\n",
            " 'Combined 10km + 15km pursuit' 'aerials' 'giant-slalom' 'Half-pipe'\n",
            " 'sprint' '5km pursuit' '12.5km pursuit' 'Giant parallel slalom'\n",
            " 'Sprint 1.5km' 'sprint 1.5km' 'Alpine combined' 'Individual'\n",
            " 'Individual sprint' 'Team pursuit' 'Team sprint' 'Snowboard Cross'\n",
            " 'Combined 7.5 + 7.5km mass start' '4x6km relay' '12.5km mass start'\n",
            " 'Combined 15 + 15km mass start']\n",
            "\n",
            "============================================\n",
            "\n",
            "Genders:\n",
            " ['M' 'W' 'X']\n",
            "\n",
            "============================================\n",
            "\n",
            "Prizes:\n",
            " ['Silver' 'Gold' 'Bronze']\n"
          ]
        }
      ]
    },
    {
      "cell_type": "markdown",
      "source": [
        "**Medals of Each Country Through Years**"
      ],
      "metadata": {
        "id": "nn5EAXym3OrZ"
      }
    },
    {
      "cell_type": "code",
      "source": [
        "def yearsMedal(cntry_code, cntry_name, medal_type, dataframe, bar_color):\n",
        "\n",
        "  '''\n",
        "    Note: Remember to input the correct inputs of medal type, country code and dataframe\n",
        "    or the program will get jammed\n",
        "  '''\n",
        "\n",
        "  # Find the years uniqueness\n",
        "  cntry_data  = dataframe[(dataframe['NOC'] == cntry_code)&(dataframe['Medal'] == medal_type)]\n",
        "  num_years   = dataframe['Year'].unique().size\n",
        "  year_lst    = list(medaldata['Year'].unique())\n",
        "  year_medal  = [0]*num_years\n",
        "\n",
        "  # Start scanning through years\n",
        "  for id, row in cntry_data.iterrows():\n",
        "    for years in year_lst:\n",
        "      if row['Year'] == years:\n",
        "        lst_id = year_lst.index(years)\n",
        "        year_medal[lst_id] += 1\n",
        "      else:\n",
        "        continue\n",
        "\n",
        "  # Plotting the histogram of medal\n",
        "  plt.bar(year_lst, year_medal, width = 1.5, align = 'center', color = bar_color)\n",
        "    \n",
        "  # Giving title to the plot\n",
        "  title_str = \"{medal_type} Medals of {country} Through Years\"\n",
        "  plt.title(title_str.format(medal_type = medal_type, country = cntry_name))\n",
        "    \n",
        "  # Giving X and Y labels\n",
        "  plt.xlabel(\"Years\")\n",
        "  y_label =\"Number of {medal_type} Medals\"\n",
        "  y_label = y_label.format(medal_type = medal_type)\n",
        "  plt.ylabel(y_label)\n",
        "  plt.show()\n",
        "  \n",
        "  return year_lst, year_medal"
      ],
      "metadata": {
        "id": "8jLnJgWBBNhI"
      },
      "execution_count": 133,
      "outputs": []
    },
    {
      "cell_type": "code",
      "source": [
        "year_lst, year_medal = yearsMedal('NOR', 'Norway', 'Gold', medaldata, 'green')"
      ],
      "metadata": {
        "colab": {
          "base_uri": "https://localhost:8080/",
          "height": 295
        },
        "id": "izAuJYMyB0n5",
        "outputId": "b2365b3e-2704-4a1c-edf4-e70199d974c5"
      },
      "execution_count": 130,
      "outputs": [
        {
          "output_type": "display_data",
          "data": {
            "text/plain": [
              "<Figure size 432x288 with 1 Axes>"
            ],
            "image/png": "[encoded data removed]"
          },
          "metadata": {
            "needs_background": "light"
          }
        }
      ]
    },
    {
      "cell_type": "code",
      "source": [
        "year_lst, year_medal = yearsMedal('JPN', 'Japan', 'Silver', medaldata, 'red')"
      ],
      "metadata": {
        "colab": {
          "base_uri": "https://localhost:8080/",
          "height": 295
        },
        "id": "Yr97MtNmESEw",
        "outputId": "4397b0ae-a0a0-497e-a9dc-a5b681e66530"
      },
      "execution_count": 131,
      "outputs": [
        {
          "output_type": "display_data",
          "data": {
            "text/plain": [
              "<Figure size 432x288 with 1 Axes>"
            ],
            "image/png": "[encoded data removed]"
          },
          "metadata": {
            "needs_background": "light"
          }
        }
      ]
    },
    {
      "cell_type": "code",
      "source": [
        "year_lst, year_medal = yearsMedal('GER', 'Germany', 'Silver', medaldata, 'pink')"
      ],
      "metadata": {
        "colab": {
          "base_uri": "https://localhost:8080/",
          "height": 295
        },
        "id": "ITuKAvXkEthu",
        "outputId": "2f14ceaa-e920-4528-9992-23276783ba55"
      },
      "execution_count": 132,
      "outputs": [
        {
          "output_type": "display_data",
          "data": {
            "text/plain": [
              "<Figure size 432x288 with 1 Axes>"
            ],
            "image/png": "[encoded data removed]"
          },
          "metadata": {
            "needs_background": "light"
          }
        }
      ]
    },
    {
      "cell_type": "markdown",
      "source": [
        "**Gender of Competitors of Each Country Through Years**"
      ],
      "metadata": {
        "id": "dNK-0uTBFdAJ"
      }
    },
    {
      "cell_type": "code",
      "source": [
        "def yearsGender(cntry_code, cntry_name, gender_code, dataframe, bar_color):\n",
        "\n",
        "  '''\n",
        "    Note: \n",
        "    1. Remember to input the correct inputs of medal type, country code and dataframe\n",
        "    or the program will get jammed\n",
        "    2. There are no racism and sexism in this program. This function is used only for\n",
        "    visualization of the data\n",
        "  '''\n",
        "\n",
        "  # Find the years uniqueness\n",
        "  cntry_data  = dataframe[(dataframe['NOC'] == cntry_code)&(dataframe['Event gender'] == gender_code)]\n",
        "  num_years   = dataframe['Year'].unique().size\n",
        "  year_lst    = list(medaldata['Year'].unique())\n",
        "  year_gend   = [0]*num_years\n",
        "\n",
        "  # Start scanning through years\n",
        "  for id, row in cntry_data.iterrows():\n",
        "    for years in year_lst:\n",
        "      if row['Year'] == years:\n",
        "        lst_id = year_lst.index(years)\n",
        "        year_gend[lst_id] += 1\n",
        "      else:\n",
        "        continue\n",
        "\n",
        "  # Plotting the histogram of medal\n",
        "  plt.bar(year_lst, year_gend, width = 1.5, align = 'center', color = bar_color)\n",
        "    \n",
        "  # Giving title to the plot\n",
        "  title_str = \"Number of {country} {gend} Competitors Through Years\"\n",
        "\n",
        "  if gender_code == 'M':\n",
        "\n",
        "    gender = 'Male'\n",
        "  elif gender_code == 'W':\n",
        "    \n",
        "    gender = 'Female'\n",
        "  else:\n",
        "\n",
        "    gender = 'Pairs'\n",
        "    \n",
        "  title_str = title_str.format(country = cntry_name, gend = gender)\n",
        "  plt.title(title_str)\n",
        "    \n",
        "  # Giving X and Y labels\n",
        "  plt.xlabel(\"Years\")\n",
        "  y_label =\"Number of {gend} Competitors\"\n",
        "  y_label = y_label.format(gend = gender)\n",
        "  plt.ylabel(y_label)\n",
        "  plt.show()\n",
        "  \n",
        "  return year_lst, year_medal"
      ],
      "metadata": {
        "id": "qLyo-XULFna_"
      },
      "execution_count": 163,
      "outputs": []
    },
    {
      "cell_type": "code",
      "source": [
        "year_lst, year_gend = yearsGender('GER', 'Germany', 'M', medaldata, 'green')"
      ],
      "metadata": {
        "colab": {
          "base_uri": "https://localhost:8080/",
          "height": 295
        },
        "id": "5bYE0ke3G8Eo",
        "outputId": "e3f80b34-21d4-4e2a-c701-897d803ac0bc"
      },
      "execution_count": 165,
      "outputs": [
        {
          "output_type": "display_data",
          "data": {
            "text/plain": [
              "<Figure size 432x288 with 1 Axes>"
            ],
            "image/png": "[encoded data removed]"
          },
          "metadata": {
            "needs_background": "light"
          }
        }
      ]
    },
    {
      "cell_type": "code",
      "source": [
        "year_lst, year_gend = yearsGender('USA', 'United States', 'M', medaldata, 'blue')"
      ],
      "metadata": {
        "colab": {
          "base_uri": "https://localhost:8080/",
          "height": 295
        },
        "id": "jHjMbz38JMun",
        "outputId": "5df52a64-325d-4ad1-8926-d8c6f2d778a8"
      },
      "execution_count": 155,
      "outputs": [
        {
          "output_type": "display_data",
          "data": {
            "text/plain": [
              "<Figure size 432x288 with 1 Axes>"
            ],
            "image/png": "[encoded data removed]"
          },
          "metadata": {
            "needs_background": "light"
          }
        }
      ]
    },
    {
      "cell_type": "code",
      "source": [
        "year_lst, year_gend = yearsGender('JPN', 'Japan', 'W', medaldata, 'red')"
      ],
      "metadata": {
        "colab": {
          "base_uri": "https://localhost:8080/",
          "height": 295
        },
        "id": "n4crGgA2Jfk_",
        "outputId": "b2ae6746-8791-46e1-8995-a7f3c73d1311"
      },
      "execution_count": 157,
      "outputs": [
        {
          "output_type": "display_data",
          "data": {
            "text/plain": [
              "<Figure size 432x288 with 1 Axes>"
            ],
            "image/png": "[encoded data removed]"
          },
          "metadata": {
            "needs_background": "light"
          }
        }
      ]
    },
    {
      "cell_type": "code",
      "source": [
        "year_lst, year_gend = yearsGender('HUN', 'Hungary', 'X', medaldata, 'cyan')"
      ],
      "metadata": {
        "colab": {
          "base_uri": "https://localhost:8080/",
          "height": 295
        },
        "id": "zq3MOhN5KCV9",
        "outputId": "92ff1896-1c2a-4689-ae75-de858e663748"
      },
      "execution_count": 167,
      "outputs": [
        {
          "output_type": "display_data",
          "data": {
            "text/plain": [
              "<Figure size 432x288 with 1 Axes>"
            ],
            "image/png": "[encoded data removed]"
          },
          "metadata": {
            "needs_background": "light"
          }
        }
      ]
    }
  ]
}